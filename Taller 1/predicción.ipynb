{
 "cells": [
  {
   "cell_type": "code",
   "execution_count": null,
   "id": "b1bbe169",
   "metadata": {},
   "outputs": [],
   "source": []
  },
  {
   "cell_type": "code",
   "execution_count": 34,
   "id": "91ad0eb0",
   "metadata": {},
   "outputs": [
    {
     "name": "stderr",
     "output_type": "stream",
     "text": [
      "c:\\Users\\sergio_math\\anaconda3\\Lib\\site-packages\\openpyxl\\packaging\\core.py:99: DeprecationWarning: datetime.datetime.utcnow() is deprecated and scheduled for removal in a future version. Use timezone-aware objects to represent datetimes in UTC: datetime.datetime.now(datetime.UTC).\n",
      "  now = datetime.datetime.utcnow()\n"
     ]
    },
    {
     "name": "stdout",
     "output_type": "stream",
     "text": [
      "Hojas cargadas y variables creadas:\n",
      " - Avisados -> Avisados (filas=835, cols=11)\n",
      " - Siniestros -> Siniestros (filas=46582, cols=13)\n",
      " - Primas -> Primas (filas=13, cols=4)\n",
      " - Reaseguro -> Reaseguro (filas=38, cols=5)\n"
     ]
    }
   ],
   "source": [
    "# Llamar 'QS_limpio.xlsx' y traer cada hoja en un DataFrame\n",
    "import pandas as pd\n",
    "import re\n",
    "\n",
    "excel_path = 'QS_limpio.xlsx'  # archivo generado en la limpieza\n",
    "sheets = pd.read_excel(excel_path, sheet_name=None)  # dict: {nombre_hoja: DataFrame}\n",
    "\n",
    "# Crear variables globales por cada hoja con nombres válidos de Python\n",
    "print('Hojas cargadas y variables creadas:')\n",
    "for sheet_name, df in sheets.items():\n",
    "    var_name = re.sub(r'\\W|^(?=\\d)', '_', sheet_name.strip().replace(' ', '_'))\n",
    "    globals()[var_name] = df\n",
    "    print(f\" - {sheet_name} -> {var_name} (filas={df.shape[0]}, cols={df.shape[1]})\")\n",
    "\n",
    "# También dejar disponible el diccionario completo\n",
    "hojas = sheets  # alias conveniente para acceder por nombre original"
   ]
  },
  {
   "cell_type": "code",
   "execution_count": 35,
   "id": "9a2c7f4f",
   "metadata": {},
   "outputs": [],
   "source": [
    "# ===============================\n",
    "# 1. Importar librerías y funciones necesarias\n",
    "# ===============================\n",
    "import pandas as pd  # Manejo de datos\n",
    "from xgboost import XGBRegressor  # Modelo de regresión\n",
    "from skforecast.recursive import ForecasterRecursive  # Forecasting recursivo\n",
    "from skforecast.preprocessing import RollingFeatures  # Features de ventana\n",
    "from skforecast.model_selection import TimeSeriesFold, bayesian_search_forecaster  # Validación y optimización\n",
    "from sklearn.feature_selection import RFECV\n",
    "from skforecast.feature_selection import select_features\n",
    "\n",
    "\n",
    "siniestros_forecast = Siniestros[['Fecha de Ocurrencia', 'TOTAL SINIESTRO']].copy()\n",
    "siniestros_forecast['Fecha de Ocurrencia'] = pd.to_datetime(siniestros_forecast['Fecha de Ocurrencia'], errors='coerce')\n",
    "\n",
    "serie_m = (\n",
    "    siniestros_forecast\n",
    "    .set_index('Fecha de Ocurrencia')\n",
    "    .sort_index()\n",
    "    .resample('MS')['TOTAL SINIESTRO'].sum()\n",
    ")\n",
    "\n",
    "serie_m = serie_m.asfreq('MS').sort_index()"
   ]
  },
  {
   "cell_type": "code",
   "execution_count": 36,
   "id": "3ad458a7",
   "metadata": {},
   "outputs": [],
   "source": [
    "def split_data(df, len_train, len_val, variable):\n",
    "    \"\"\"\n",
    "    Divide una serie de tiempo en conjuntos de entrenamiento, validación y prueba.\n",
    "\n",
    "    Args:\n",
    "        df (pd.DataFrame): DataFrame con la serie de tiempo (debe tener la columna 'TOTAL SINIESTRO').\n",
    "        len_train (float): Proporción de datos para el conjunto de entrenamiento (ej: 0.7).\n",
    "        len_val (float): Proporción de datos para el conjunto de validación (ej: 0.15).\n",
    "\n",
    "    Returns:\n",
    "        tuple: Tres DataFrames (data_train, data_val, data_test).\n",
    "    \"\"\"\n",
    "    n = len(df)\n",
    "    train_size = int(n * len_train)\n",
    "    val_size = int(n * len_val)\n",
    "    \n",
    "    data_train = df.iloc[:train_size][[variable]]\n",
    "    data_val = df.iloc[train_size : train_size + val_size][[variable]]\n",
    "    data_test = df.iloc[train_size + val_size :][[variable]]\n",
    "\n",
    "    return data_train, data_val, data_test\n"
   ]
  },
  {
   "cell_type": "code",
   "execution_count": 37,
   "id": "58a74d68",
   "metadata": {},
   "outputs": [],
   "source": [
    "def opt_forecaster(data_train, data_val, data_test, variable):\n",
    "    \"\"\"\n",
    "    Optimiza hiperparámetros, selecciona características y entrena un modelo\n",
    "    Forecaster sin variables exógenas.\n",
    "\n",
    "    Args:\n",
    "        data_train (pd.DataFrame): Datos de entrenamiento.\n",
    "        data_val (pd.DataFrame): Datos de validación.\n",
    "        data_test (pd.DataFrame): Datos de prueba.\n",
    "\n",
    "    Returns:\n",
    "        ForecasterRecursive: El objeto forecaster entrenado y optimizado.\n",
    "    \"\"\"\n",
    "    import warnings\n",
    "    from sklearn.feature_selection import RFECV\n",
    "    from skforecast.feature_selection import select_features\n",
    "    # 1. Combinar datos para facilitar el manejo de índices\n",
    "    serie = pd.concat([data_train, data_val, data_test])\n",
    "    y_train_val = serie.iloc[:(len(data_train) + len(data_val))][variable]\n",
    "\n",
    "    # 2. Definir el Forecaster inicial para la búsqueda\n",
    "    forecaster = ForecasterRecursive(\n",
    "        regressor=XGBRegressor(random_state=15926, enable_categorical=True),\n",
    "        lags=6,\n",
    "        window_features=[RollingFeatures(stats=['mean','mean','mean','mean','mean'], window_sizes=[1, 2, 3, 4, 6])]\n",
    "    )\n",
    "\n",
    "    # 3. Búsqueda Bayesiana de hiperparámetros\n",
    "    lags_grid = [4, 3, 10, [1, 2, 3, 6, 12, 24]]\n",
    "    def search_space(trial):\n",
    "        return {\n",
    "            'n_estimators'    : trial.suggest_int('n_estimators', 50, 1500, step=50),\n",
    "            'max_depth'       : trial.suggest_int('max_depth', 3, 10, step=1),\n",
    "            'learning_rate'   : trial.suggest_float('learning_rate', 0.01, 1),\n",
    "            'subsample'       : trial.suggest_float('subsample', 0.1, 1),\n",
    "            'colsample_bytree': trial.suggest_float('colsample_bytree', 0.1, 1),\n",
    "            'gamma'           : trial.suggest_float('gamma', 0, 1),\n",
    "            'reg_alpha'       : trial.suggest_float('reg_alpha', 0, 1),\n",
    "            'reg_lambda'      : trial.suggest_float('reg_lambda', 0, 1),\n",
    "            'lags'            : trial.suggest_categorical('lags', lags_grid)\n",
    "        }\n",
    "\n",
    "    cv_search = TimeSeriesFold(\n",
    "        steps=len(data_val), initial_train_size=len(data_train), refit=True\n",
    "    )\n",
    "    \n",
    "    results_search, frozen_trial = bayesian_search_forecaster(\n",
    "        forecaster=forecaster, y=y_train_val, search_space=search_space,\n",
    "        cv=cv_search, metric='mean_absolute_error', n_trials=50,\n",
    "        show_progress=False, n_jobs=-1\n",
    "    )\n",
    "    \n",
    "    best_params = results_search['params'].iat[0]\n",
    "    best_lags = results_search['lags'].iat[0]\n",
    "\n",
    "    # 4. Selección de características (Lags y Window Features)\n",
    "    forecaster.fit(y=y_train_val)\n",
    "    selector = RFECV(estimator=forecaster.regressor, step=1, cv=3, n_jobs=-1)\n",
    "    \n",
    "    lags_select, window_features_select, _ = select_features(\n",
    "        forecaster=forecaster, selector=selector, y=y_train_val,\n",
    "        subsample=0.5, random_state=123, verbose=False\n",
    "    )\n",
    "   \n",
    "    # 5. Crear y entrenar el Forecaster final con los mejores parámetros\n",
    "    if window_features_select:\n",
    "        window_sizes = [int(i.split('_')[-1]) for i in window_features_select]\n",
    "        window_stats = [i.split('_')[1] for i in window_features_select]\n",
    "        final_window_features = [RollingFeatures(stats=window_stats, window_sizes=window_sizes)]\n",
    "    else:\n",
    "        final_window_features = None\n",
    "\n",
    "    final_forecaster = ForecasterRecursive(\n",
    "        regressor=XGBRegressor(**best_params, random_state=15926, enable_categorical=True),\n",
    "        lags=lags_select if lags_select else best_lags,\n",
    "        window_features=final_window_features,\n",
    "    )\n",
    "\n",
    "    final_forecaster.fit(y=serie[variable])\n",
    "\n",
    "    return final_forecaster\n"
   ]
  },
  {
   "cell_type": "code",
   "execution_count": 38,
   "id": "2610ed42",
   "metadata": {},
   "outputs": [
    {
     "name": "stdout",
     "output_type": "stream",
     "text": [
      "`Forecaster` refitted using the best-found lags and parameters, and the whole data set: \n",
      "  Lags: [ 1  2  3  4  5  6  7  8  9 10] \n",
      "  Parameters: {'n_estimators': 250, 'max_depth': 6, 'learning_rate': 0.24844733874638825, 'subsample': 0.40911041264349246, 'colsample_bytree': 0.561815338779102, 'gamma': 0.6666245501640716, 'reg_alpha': 0.10590848505681383, 'reg_lambda': 0.13089495066408074}\n",
      "  Backtesting metric: 1705713052.1460404\n"
     ]
    },
    {
     "data": {
      "application/vnd.microsoft.datawrangler.viewer.v0+json": {
       "columns": [
        {
         "name": "index",
         "rawType": "int64",
         "type": "integer"
        },
        {
         "name": "Fecha",
         "rawType": "datetime64[ns]",
         "type": "datetime"
        },
        {
         "name": "Valor",
         "rawType": "float64",
         "type": "float"
        }
       ],
       "ref": "da4dba39-cf44-47df-97b6-b0fac322ed54",
       "rows": [
        [
         "0",
         "2025-01-01 00:00:00",
         "-179621552.0"
        ],
        [
         "1",
         "2025-02-01 00:00:00",
         "1173579520.0"
        ],
        [
         "2",
         "2025-03-01 00:00:00",
         "516901472.0"
        ],
        [
         "3",
         "2025-04-01 00:00:00",
         "497426560.0"
        ],
        [
         "4",
         "2025-05-01 00:00:00",
         "5612075008.0"
        ],
        [
         "5",
         "2025-06-01 00:00:00",
         "7846440960.0"
        ],
        [
         "6",
         "2025-07-01 00:00:00",
         "9874025472.0"
        ],
        [
         "7",
         "2025-08-01 00:00:00",
         "11861113856.0"
        ],
        [
         "8",
         "2025-09-01 00:00:00",
         "15881480192.0"
        ],
        [
         "9",
         "2025-10-01 00:00:00",
         "18602168320.0"
        ],
        [
         "10",
         "2025-11-01 00:00:00",
         "18727581696.0"
        ],
        [
         "11",
         "2025-12-01 00:00:00",
         "19059568640.0"
        ],
        [
         "12",
         "2026-01-01 00:00:00",
         "19153408000.0"
        ],
        [
         "13",
         "2026-02-01 00:00:00",
         "20330450944.0"
        ],
        [
         "14",
         "2026-03-01 00:00:00",
         "21799518208.0"
        ],
        [
         "15",
         "2026-04-01 00:00:00",
         "23948791808.0"
        ],
        [
         "16",
         "2026-05-01 00:00:00",
         "21367220224.0"
        ],
        [
         "17",
         "2026-06-01 00:00:00",
         "20085643264.0"
        ]
       ],
       "shape": {
        "columns": 2,
        "rows": 18
       }
      },
      "text/html": [
       "<div>\n",
       "<style scoped>\n",
       "    .dataframe tbody tr th:only-of-type {\n",
       "        vertical-align: middle;\n",
       "    }\n",
       "\n",
       "    .dataframe tbody tr th {\n",
       "        vertical-align: top;\n",
       "    }\n",
       "\n",
       "    .dataframe thead th {\n",
       "        text-align: right;\n",
       "    }\n",
       "</style>\n",
       "<table border=\"1\" class=\"dataframe\">\n",
       "  <thead>\n",
       "    <tr style=\"text-align: right;\">\n",
       "      <th></th>\n",
       "      <th>Fecha</th>\n",
       "      <th>Valor</th>\n",
       "    </tr>\n",
       "  </thead>\n",
       "  <tbody>\n",
       "    <tr>\n",
       "      <th>0</th>\n",
       "      <td>2025-01-01</td>\n",
       "      <td>-1.796216e+08</td>\n",
       "    </tr>\n",
       "    <tr>\n",
       "      <th>1</th>\n",
       "      <td>2025-02-01</td>\n",
       "      <td>1.173580e+09</td>\n",
       "    </tr>\n",
       "    <tr>\n",
       "      <th>2</th>\n",
       "      <td>2025-03-01</td>\n",
       "      <td>5.169015e+08</td>\n",
       "    </tr>\n",
       "    <tr>\n",
       "      <th>3</th>\n",
       "      <td>2025-04-01</td>\n",
       "      <td>4.974266e+08</td>\n",
       "    </tr>\n",
       "    <tr>\n",
       "      <th>4</th>\n",
       "      <td>2025-05-01</td>\n",
       "      <td>5.612075e+09</td>\n",
       "    </tr>\n",
       "    <tr>\n",
       "      <th>5</th>\n",
       "      <td>2025-06-01</td>\n",
       "      <td>7.846441e+09</td>\n",
       "    </tr>\n",
       "    <tr>\n",
       "      <th>6</th>\n",
       "      <td>2025-07-01</td>\n",
       "      <td>9.874025e+09</td>\n",
       "    </tr>\n",
       "    <tr>\n",
       "      <th>7</th>\n",
       "      <td>2025-08-01</td>\n",
       "      <td>1.186111e+10</td>\n",
       "    </tr>\n",
       "    <tr>\n",
       "      <th>8</th>\n",
       "      <td>2025-09-01</td>\n",
       "      <td>1.588148e+10</td>\n",
       "    </tr>\n",
       "    <tr>\n",
       "      <th>9</th>\n",
       "      <td>2025-10-01</td>\n",
       "      <td>1.860217e+10</td>\n",
       "    </tr>\n",
       "    <tr>\n",
       "      <th>10</th>\n",
       "      <td>2025-11-01</td>\n",
       "      <td>1.872758e+10</td>\n",
       "    </tr>\n",
       "    <tr>\n",
       "      <th>11</th>\n",
       "      <td>2025-12-01</td>\n",
       "      <td>1.905957e+10</td>\n",
       "    </tr>\n",
       "    <tr>\n",
       "      <th>12</th>\n",
       "      <td>2026-01-01</td>\n",
       "      <td>1.915341e+10</td>\n",
       "    </tr>\n",
       "    <tr>\n",
       "      <th>13</th>\n",
       "      <td>2026-02-01</td>\n",
       "      <td>2.033045e+10</td>\n",
       "    </tr>\n",
       "    <tr>\n",
       "      <th>14</th>\n",
       "      <td>2026-03-01</td>\n",
       "      <td>2.179952e+10</td>\n",
       "    </tr>\n",
       "    <tr>\n",
       "      <th>15</th>\n",
       "      <td>2026-04-01</td>\n",
       "      <td>2.394879e+10</td>\n",
       "    </tr>\n",
       "    <tr>\n",
       "      <th>16</th>\n",
       "      <td>2026-05-01</td>\n",
       "      <td>2.136722e+10</td>\n",
       "    </tr>\n",
       "    <tr>\n",
       "      <th>17</th>\n",
       "      <td>2026-06-01</td>\n",
       "      <td>2.008564e+10</td>\n",
       "    </tr>\n",
       "  </tbody>\n",
       "</table>\n",
       "</div>"
      ],
      "text/plain": [
       "        Fecha         Valor\n",
       "0  2025-01-01 -1.796216e+08\n",
       "1  2025-02-01  1.173580e+09\n",
       "2  2025-03-01  5.169015e+08\n",
       "3  2025-04-01  4.974266e+08\n",
       "4  2025-05-01  5.612075e+09\n",
       "5  2025-06-01  7.846441e+09\n",
       "6  2025-07-01  9.874025e+09\n",
       "7  2025-08-01  1.186111e+10\n",
       "8  2025-09-01  1.588148e+10\n",
       "9  2025-10-01  1.860217e+10\n",
       "10 2025-11-01  1.872758e+10\n",
       "11 2025-12-01  1.905957e+10\n",
       "12 2026-01-01  1.915341e+10\n",
       "13 2026-02-01  2.033045e+10\n",
       "14 2026-03-01  2.179952e+10\n",
       "15 2026-04-01  2.394879e+10\n",
       "16 2026-05-01  2.136722e+10\n",
       "17 2026-06-01  2.008564e+10"
      ]
     },
     "execution_count": 38,
     "metadata": {},
     "output_type": "execute_result"
    }
   ],
   "source": [
    "# Asegurar que la función reciba un DataFrame con la columna esperada\n",
    "serie_m_df = serie_m.to_frame(name='TOTAL SINIESTRO')\n",
    "data_train, data_val, data_test = split_data(serie_m_df, 0.7, 0.15, variable='TOTAL SINIESTRO')\n",
    "forecaster = opt_forecaster(data_train, data_val, data_test, variable='TOTAL SINIESTRO')\n",
    "predictions = forecaster.predict(steps=18)\n",
    "\n",
    "df_predictions = pd.DataFrame({\n",
    "        \"Fecha\": predictions.index,\n",
    "        \"Valor\": predictions.values,\n",
    "})\n",
    "df_predictions.head(50)"
   ]
  },
  {
   "cell_type": "code",
   "execution_count": 39,
   "id": "a76e8964",
   "metadata": {},
   "outputs": [
    {
     "data": {
      "image/png": "[encoded data removed]",
      "text/plain": [
       "<Figure size 1200x600 with 1 Axes>"
      ]
     },
     "metadata": {},
     "output_type": "display_data"
    }
   ],
   "source": [
    "# Visualizar las predicciones\n",
    "import matplotlib.pyplot as plt\n",
    "\n",
    "plt.figure(figsize=(12, 6))\n",
    "plt.plot(serie_m.index, serie_m.values, label='Histórico', color='blue')\n",
    "plt.plot(df_predictions['Fecha'], df_predictions['Valor'], label='Predicciones', color='red')\n",
    "plt.axvline(x=serie_m.index[-1], color='gray', linestyle='--', label='Inicio de Predicciones')\n",
    "plt.title('Predicciones de Siniestros')\n",
    "plt.xlabel('Fecha')\n",
    "plt.ylabel('Total Siniestros')\n",
    "plt.legend()\n",
    "plt.show()"
   ]
  },
  {
   "cell_type": "code",
   "execution_count": 40,
   "id": "d5e67c03",
   "metadata": {},
   "outputs": [],
   "source": [
    "# exportar resultados\n",
    "#df_predictions.to_csv('predicciones_siniestros.csv', index=False,sep=\";\",decimal=\",\")"
   ]
  },
  {
   "cell_type": "code",
   "execution_count": 41,
   "id": "1f6decbb",
   "metadata": {},
   "outputs": [],
   "source": [
    "#seleccionar de primas solo el año y la columna primas\n",
    "primas_forecast=Primas[['Año Serie', 'Primas']]"
   ]
  },
  {
   "cell_type": "code",
   "execution_count": 42,
   "id": "799a7097",
   "metadata": {},
   "outputs": [
    {
     "name": "stderr",
     "output_type": "stream",
     "text": [
      "C:\\Users\\sergio_math\\AppData\\Local\\Temp\\ipykernel_45128\\3046654526.py:1: SettingWithCopyWarning: \n",
      "A value is trying to be set on a copy of a slice from a DataFrame.\n",
      "Try using .loc[row_indexer,col_indexer] = value instead\n",
      "\n",
      "See the caveats in the documentation: https://pandas.pydata.org/pandas-docs/stable/user_guide/indexing.html#returning-a-view-versus-a-copy\n",
      "  primas_forecast['Año Serie'] = pd.to_datetime(primas_forecast['Año Serie'], format='%Y')\n"
     ]
    },
    {
     "data": {
      "application/vnd.microsoft.datawrangler.viewer.v0+json": {
       "columns": [
        {
         "name": "Año Serie",
         "rawType": "datetime64[ns]",
         "type": "datetime"
        },
        {
         "name": "Primas",
         "rawType": "float64",
         "type": "float"
        }
       ],
       "ref": "37aad43f-e675-4f09-ace0-2768439befe2",
       "rows": [
        [
         "2013-01-01 00:00:00",
         "96296170.0"
        ],
        [
         "2014-01-01 00:00:00",
         "56601300.0"
        ],
        [
         "2015-01-01 00:00:00",
         "97711449.31667799"
        ],
        [
         "2016-01-01 00:00:00",
         "109407399.6583395"
        ],
        [
         "2017-01-01 00:00:00",
         "104653822.5563"
        ],
        [
         "2018-01-01 00:00:00",
         "124584390.5007"
        ],
        [
         "2019-01-01 00:00:00",
         "138603130.2438"
        ],
        [
         "2020-01-01 00:00:00",
         "142594909.93835"
        ],
        [
         "2021-01-01 00:00:00",
         "175937905.80645"
        ],
        [
         "2022-01-01 00:00:00",
         "164215828.5187001"
        ],
        [
         "2023-01-01 00:00:00",
         "170715263.8591"
        ],
        [
         "2024-01-01 00:00:00",
         "184953167.3759889"
        ],
        [
         "2025-01-01 00:00:00",
         "204434637.0"
        ]
       ],
       "shape": {
        "columns": 1,
        "rows": 13
       }
      },
      "text/html": [
       "<div>\n",
       "<style scoped>\n",
       "    .dataframe tbody tr th:only-of-type {\n",
       "        vertical-align: middle;\n",
       "    }\n",
       "\n",
       "    .dataframe tbody tr th {\n",
       "        vertical-align: top;\n",
       "    }\n",
       "\n",
       "    .dataframe thead th {\n",
       "        text-align: right;\n",
       "    }\n",
       "</style>\n",
       "<table border=\"1\" class=\"dataframe\">\n",
       "  <thead>\n",
       "    <tr style=\"text-align: right;\">\n",
       "      <th></th>\n",
       "      <th>Primas</th>\n",
       "    </tr>\n",
       "    <tr>\n",
       "      <th>Año Serie</th>\n",
       "      <th></th>\n",
       "    </tr>\n",
       "  </thead>\n",
       "  <tbody>\n",
       "    <tr>\n",
       "      <th>2013-01-01</th>\n",
       "      <td>9.629617e+07</td>\n",
       "    </tr>\n",
       "    <tr>\n",
       "      <th>2014-01-01</th>\n",
       "      <td>5.660130e+07</td>\n",
       "    </tr>\n",
       "    <tr>\n",
       "      <th>2015-01-01</th>\n",
       "      <td>9.771145e+07</td>\n",
       "    </tr>\n",
       "    <tr>\n",
       "      <th>2016-01-01</th>\n",
       "      <td>1.094074e+08</td>\n",
       "    </tr>\n",
       "    <tr>\n",
       "      <th>2017-01-01</th>\n",
       "      <td>1.046538e+08</td>\n",
       "    </tr>\n",
       "    <tr>\n",
       "      <th>2018-01-01</th>\n",
       "      <td>1.245844e+08</td>\n",
       "    </tr>\n",
       "    <tr>\n",
       "      <th>2019-01-01</th>\n",
       "      <td>1.386031e+08</td>\n",
       "    </tr>\n",
       "    <tr>\n",
       "      <th>2020-01-01</th>\n",
       "      <td>1.425949e+08</td>\n",
       "    </tr>\n",
       "    <tr>\n",
       "      <th>2021-01-01</th>\n",
       "      <td>1.759379e+08</td>\n",
       "    </tr>\n",
       "    <tr>\n",
       "      <th>2022-01-01</th>\n",
       "      <td>1.642158e+08</td>\n",
       "    </tr>\n",
       "    <tr>\n",
       "      <th>2023-01-01</th>\n",
       "      <td>1.707153e+08</td>\n",
       "    </tr>\n",
       "    <tr>\n",
       "      <th>2024-01-01</th>\n",
       "      <td>1.849532e+08</td>\n",
       "    </tr>\n",
       "    <tr>\n",
       "      <th>2025-01-01</th>\n",
       "      <td>2.044346e+08</td>\n",
       "    </tr>\n",
       "  </tbody>\n",
       "</table>\n",
       "</div>"
      ],
      "text/plain": [
       "                  Primas\n",
       "Año Serie               \n",
       "2013-01-01  9.629617e+07\n",
       "2014-01-01  5.660130e+07\n",
       "2015-01-01  9.771145e+07\n",
       "2016-01-01  1.094074e+08\n",
       "2017-01-01  1.046538e+08\n",
       "2018-01-01  1.245844e+08\n",
       "2019-01-01  1.386031e+08\n",
       "2020-01-01  1.425949e+08\n",
       "2021-01-01  1.759379e+08\n",
       "2022-01-01  1.642158e+08\n",
       "2023-01-01  1.707153e+08\n",
       "2024-01-01  1.849532e+08\n",
       "2025-01-01  2.044346e+08"
      ]
     },
     "execution_count": 42,
     "metadata": {},
     "output_type": "execute_result"
    }
   ],
   "source": [
    "primas_forecast['Año Serie'] = pd.to_datetime(primas_forecast['Año Serie'], format='%Y')\n",
    "serie_m = primas_forecast.set_index('Año Serie').asfreq('YS').sort_index()\n",
    "serie_m"
   ]
  },
  {
   "cell_type": "code",
   "execution_count": 43,
   "id": "4b99ea49",
   "metadata": {},
   "outputs": [
    {
     "name": "stderr",
     "output_type": "stream",
     "text": [
      "Trial 0 failed with parameters: {'n_estimators': 1050, 'max_depth': 5, 'learning_rate': 0.2345829390285611, 'subsample': 0.5961832921746021, 'colsample_bytree': 0.7475220728070068, 'gamma': 0.42310646012446096, 'reg_alpha': 0.9807641983846155, 'reg_lambda': 0.6848297385848633, 'lags': [1, 2, 3, 6, 12, 24]} because of the following error: ValueError('If `initial_train_size` is an integer, it must be greater than the `window_size` of the forecaster (24) and smaller than the length of `y` (11). If it is a date, it must be within this range of the index.').\n",
      "Traceback (most recent call last):\n",
      "  File \"c:\\Users\\sergio_math\\anaconda3\\Lib\\site-packages\\optuna\\study\\_optimize.py\", line 201, in _run_trial\n",
      "    value_or_values = func(trial)\n",
      "                      ^^^^^^^^^^^\n",
      "  File \"c:\\Users\\sergio_math\\anaconda3\\Lib\\site-packages\\skforecast\\model_selection\\_search.py\", line 772, in _objective\n",
      "    metrics, _ = backtesting_forecaster(\n",
      "                 ^^^^^^^^^^^^^^^^^^^^^^^\n",
      "  File \"c:\\Users\\sergio_math\\anaconda3\\Lib\\site-packages\\skforecast\\model_selection\\_validation.py\", line 567, in backtesting_forecaster\n",
      "    check_backtesting_input(\n",
      "  File \"c:\\Users\\sergio_math\\anaconda3\\Lib\\site-packages\\skforecast\\model_selection\\_utils.py\", line 352, in check_backtesting_input\n",
      "    raise ValueError(\n",
      "ValueError: If `initial_train_size` is an integer, it must be greater than the `window_size` of the forecaster (24) and smaller than the length of `y` (11). If it is a date, it must be within this range of the index.\n",
      "Trial 0 failed with value None.\n",
      "Trial 0 failed with value None.\n"
     ]
    },
    {
     "ename": "ValueError",
     "evalue": "If `initial_train_size` is an integer, it must be greater than the `window_size` of the forecaster (24) and smaller than the length of `y` (11). If it is a date, it must be within this range of the index.",
     "output_type": "error",
     "traceback": [
      "\u001b[1;31m---------------------------------------------------------------------------\u001b[0m",
      "\u001b[1;31mValueError\u001b[0m                                Traceback (most recent call last)",
      "Cell \u001b[1;32mIn[43], line 4\u001b[0m\n\u001b[0;32m      1\u001b[0m \u001b[38;5;66;03m# Asegurar que la función reciba un DataFrame con la columna esperada\u001b[39;00m\n\u001b[0;32m      2\u001b[0m \u001b[38;5;66;03m#serie_m_df = serie_m.to_frame(name='Primas')\u001b[39;00m\n\u001b[0;32m      3\u001b[0m data_train, data_val, data_test \u001b[38;5;241m=\u001b[39m split_data(serie_m, \u001b[38;5;241m0.7\u001b[39m, \u001b[38;5;241m0.2\u001b[39m, variable\u001b[38;5;241m=\u001b[39m\u001b[38;5;124m'\u001b[39m\u001b[38;5;124mPrimas\u001b[39m\u001b[38;5;124m'\u001b[39m)\n\u001b[1;32m----> 4\u001b[0m forecaster \u001b[38;5;241m=\u001b[39m opt_forecaster(data_train, data_val, data_test, variable\u001b[38;5;241m=\u001b[39m\u001b[38;5;124m'\u001b[39m\u001b[38;5;124mPrimas\u001b[39m\u001b[38;5;124m'\u001b[39m)\n\u001b[0;32m      5\u001b[0m predictions \u001b[38;5;241m=\u001b[39m forecaster\u001b[38;5;241m.\u001b[39mpredict(steps\u001b[38;5;241m=\u001b[39m\u001b[38;5;241m2\u001b[39m)\n\u001b[0;32m      7\u001b[0m df_predictions \u001b[38;5;241m=\u001b[39m pd\u001b[38;5;241m.\u001b[39mDataFrame({\n\u001b[0;32m      8\u001b[0m         \u001b[38;5;124m\"\u001b[39m\u001b[38;5;124mFecha\u001b[39m\u001b[38;5;124m\"\u001b[39m: predictions\u001b[38;5;241m.\u001b[39mindex,\n\u001b[0;32m      9\u001b[0m         \u001b[38;5;124m\"\u001b[39m\u001b[38;5;124mValor\u001b[39m\u001b[38;5;124m\"\u001b[39m: predictions\u001b[38;5;241m.\u001b[39mvalues,\n\u001b[0;32m     10\u001b[0m })\n",
      "Cell \u001b[1;32mIn[37], line 47\u001b[0m, in \u001b[0;36mopt_forecaster\u001b[1;34m(data_train, data_val, data_test, variable)\u001b[0m\n\u001b[0;32m     31\u001b[0m     \u001b[38;5;28;01mreturn\u001b[39;00m {\n\u001b[0;32m     32\u001b[0m         \u001b[38;5;124m'\u001b[39m\u001b[38;5;124mn_estimators\u001b[39m\u001b[38;5;124m'\u001b[39m    : trial\u001b[38;5;241m.\u001b[39msuggest_int(\u001b[38;5;124m'\u001b[39m\u001b[38;5;124mn_estimators\u001b[39m\u001b[38;5;124m'\u001b[39m, \u001b[38;5;241m50\u001b[39m, \u001b[38;5;241m1500\u001b[39m, step\u001b[38;5;241m=\u001b[39m\u001b[38;5;241m50\u001b[39m),\n\u001b[0;32m     33\u001b[0m         \u001b[38;5;124m'\u001b[39m\u001b[38;5;124mmax_depth\u001b[39m\u001b[38;5;124m'\u001b[39m       : trial\u001b[38;5;241m.\u001b[39msuggest_int(\u001b[38;5;124m'\u001b[39m\u001b[38;5;124mmax_depth\u001b[39m\u001b[38;5;124m'\u001b[39m, \u001b[38;5;241m3\u001b[39m, \u001b[38;5;241m10\u001b[39m, step\u001b[38;5;241m=\u001b[39m\u001b[38;5;241m1\u001b[39m),\n\u001b[1;32m   (...)\u001b[0m\n\u001b[0;32m     40\u001b[0m         \u001b[38;5;124m'\u001b[39m\u001b[38;5;124mlags\u001b[39m\u001b[38;5;124m'\u001b[39m            : trial\u001b[38;5;241m.\u001b[39msuggest_categorical(\u001b[38;5;124m'\u001b[39m\u001b[38;5;124mlags\u001b[39m\u001b[38;5;124m'\u001b[39m, lags_grid)\n\u001b[0;32m     41\u001b[0m     }\n\u001b[0;32m     43\u001b[0m cv_search \u001b[38;5;241m=\u001b[39m TimeSeriesFold(\n\u001b[0;32m     44\u001b[0m     steps\u001b[38;5;241m=\u001b[39m\u001b[38;5;28mlen\u001b[39m(data_val), initial_train_size\u001b[38;5;241m=\u001b[39m\u001b[38;5;28mlen\u001b[39m(data_train), refit\u001b[38;5;241m=\u001b[39m\u001b[38;5;28;01mTrue\u001b[39;00m\n\u001b[0;32m     45\u001b[0m )\n\u001b[1;32m---> 47\u001b[0m results_search, frozen_trial \u001b[38;5;241m=\u001b[39m bayesian_search_forecaster(\n\u001b[0;32m     48\u001b[0m     forecaster\u001b[38;5;241m=\u001b[39mforecaster, y\u001b[38;5;241m=\u001b[39my_train_val, search_space\u001b[38;5;241m=\u001b[39msearch_space,\n\u001b[0;32m     49\u001b[0m     cv\u001b[38;5;241m=\u001b[39mcv_search, metric\u001b[38;5;241m=\u001b[39m\u001b[38;5;124m'\u001b[39m\u001b[38;5;124mmean_absolute_error\u001b[39m\u001b[38;5;124m'\u001b[39m, n_trials\u001b[38;5;241m=\u001b[39m\u001b[38;5;241m50\u001b[39m,\n\u001b[0;32m     50\u001b[0m     show_progress\u001b[38;5;241m=\u001b[39m\u001b[38;5;28;01mFalse\u001b[39;00m, n_jobs\u001b[38;5;241m=\u001b[39m\u001b[38;5;241m-\u001b[39m\u001b[38;5;241m1\u001b[39m\n\u001b[0;32m     51\u001b[0m )\n\u001b[0;32m     53\u001b[0m best_params \u001b[38;5;241m=\u001b[39m results_search[\u001b[38;5;124m'\u001b[39m\u001b[38;5;124mparams\u001b[39m\u001b[38;5;124m'\u001b[39m]\u001b[38;5;241m.\u001b[39miat[\u001b[38;5;241m0\u001b[39m]\n\u001b[0;32m     54\u001b[0m best_lags \u001b[38;5;241m=\u001b[39m results_search[\u001b[38;5;124m'\u001b[39m\u001b[38;5;124mlags\u001b[39m\u001b[38;5;124m'\u001b[39m]\u001b[38;5;241m.\u001b[39miat[\u001b[38;5;241m0\u001b[39m]\n",
      "File \u001b[1;32mc:\\Users\\sergio_math\\anaconda3\\Lib\\site-packages\\skforecast\\model_selection\\_search.py:597\u001b[0m, in \u001b[0;36mbayesian_search_forecaster\u001b[1;34m(forecaster, y, cv, search_space, metric, exog, n_trials, random_state, return_best, n_jobs, verbose, show_progress, output_file, kwargs_create_study, kwargs_study_optimize)\u001b[0m\n\u001b[0;32m    591\u001b[0m \u001b[38;5;28;01mif\u001b[39;00m return_best \u001b[38;5;129;01mand\u001b[39;00m exog \u001b[38;5;129;01mis\u001b[39;00m \u001b[38;5;129;01mnot\u001b[39;00m \u001b[38;5;28;01mNone\u001b[39;00m \u001b[38;5;129;01mand\u001b[39;00m (\u001b[38;5;28mlen\u001b[39m(exog) \u001b[38;5;241m!=\u001b[39m \u001b[38;5;28mlen\u001b[39m(y)):\n\u001b[0;32m    592\u001b[0m     \u001b[38;5;28;01mraise\u001b[39;00m \u001b[38;5;167;01mValueError\u001b[39;00m(\n\u001b[0;32m    593\u001b[0m         \u001b[38;5;124mf\u001b[39m\u001b[38;5;124m\"\u001b[39m\u001b[38;5;124m`exog` must have same number of samples as `y`. \u001b[39m\u001b[38;5;124m\"\u001b[39m\n\u001b[0;32m    594\u001b[0m         \u001b[38;5;124mf\u001b[39m\u001b[38;5;124m\"\u001b[39m\u001b[38;5;124mlength `exog`: (\u001b[39m\u001b[38;5;132;01m{\u001b[39;00m\u001b[38;5;28mlen\u001b[39m(exog)\u001b[38;5;132;01m}\u001b[39;00m\u001b[38;5;124m), length `y`: (\u001b[39m\u001b[38;5;132;01m{\u001b[39;00m\u001b[38;5;28mlen\u001b[39m(y)\u001b[38;5;132;01m}\u001b[39;00m\u001b[38;5;124m)\u001b[39m\u001b[38;5;124m\"\u001b[39m\n\u001b[0;32m    595\u001b[0m     )\n\u001b[1;32m--> 597\u001b[0m results, best_trial \u001b[38;5;241m=\u001b[39m _bayesian_search_optuna(\n\u001b[0;32m    598\u001b[0m                           forecaster            \u001b[38;5;241m=\u001b[39m forecaster,\n\u001b[0;32m    599\u001b[0m                           y                     \u001b[38;5;241m=\u001b[39m y,\n\u001b[0;32m    600\u001b[0m                           cv                    \u001b[38;5;241m=\u001b[39m cv,\n\u001b[0;32m    601\u001b[0m                           exog                  \u001b[38;5;241m=\u001b[39m exog,\n\u001b[0;32m    602\u001b[0m                           search_space          \u001b[38;5;241m=\u001b[39m search_space,\n\u001b[0;32m    603\u001b[0m                           metric                \u001b[38;5;241m=\u001b[39m metric,\n\u001b[0;32m    604\u001b[0m                           n_trials              \u001b[38;5;241m=\u001b[39m n_trials,\n\u001b[0;32m    605\u001b[0m                           random_state          \u001b[38;5;241m=\u001b[39m random_state,\n\u001b[0;32m    606\u001b[0m                           return_best           \u001b[38;5;241m=\u001b[39m return_best,\n\u001b[0;32m    607\u001b[0m                           n_jobs                \u001b[38;5;241m=\u001b[39m n_jobs,\n\u001b[0;32m    608\u001b[0m                           verbose               \u001b[38;5;241m=\u001b[39m verbose,\n\u001b[0;32m    609\u001b[0m                           show_progress         \u001b[38;5;241m=\u001b[39m show_progress,\n\u001b[0;32m    610\u001b[0m                           output_file           \u001b[38;5;241m=\u001b[39m output_file,\n\u001b[0;32m    611\u001b[0m                           kwargs_create_study   \u001b[38;5;241m=\u001b[39m kwargs_create_study,\n\u001b[0;32m    612\u001b[0m                           kwargs_study_optimize \u001b[38;5;241m=\u001b[39m kwargs_study_optimize\n\u001b[0;32m    613\u001b[0m                       )\n\u001b[0;32m    615\u001b[0m \u001b[38;5;28;01mreturn\u001b[39;00m results, best_trial\n",
      "File \u001b[1;32mc:\\Users\\sergio_math\\anaconda3\\Lib\\site-packages\\skforecast\\model_selection\\_search.py:865\u001b[0m, in \u001b[0;36m_bayesian_search_optuna\u001b[1;34m(forecaster, y, cv, search_space, metric, exog, n_trials, random_state, return_best, n_jobs, verbose, show_progress, output_file, kwargs_create_study, kwargs_study_optimize)\u001b[0m\n\u001b[0;32m    862\u001b[0m \u001b[38;5;28;01mif\u001b[39;00m \u001b[38;5;124m'\u001b[39m\u001b[38;5;124msampler\u001b[39m\u001b[38;5;124m'\u001b[39m \u001b[38;5;129;01mnot\u001b[39;00m \u001b[38;5;129;01min\u001b[39;00m kwargs_create_study\u001b[38;5;241m.\u001b[39mkeys():\n\u001b[0;32m    863\u001b[0m     study\u001b[38;5;241m.\u001b[39msampler \u001b[38;5;241m=\u001b[39m TPESampler(seed\u001b[38;5;241m=\u001b[39mrandom_state)\n\u001b[1;32m--> 865\u001b[0m study\u001b[38;5;241m.\u001b[39moptimize(_objective, n_trials\u001b[38;5;241m=\u001b[39mn_trials, \u001b[38;5;241m*\u001b[39m\u001b[38;5;241m*\u001b[39mkwargs_study_optimize)\n\u001b[0;32m    866\u001b[0m best_trial \u001b[38;5;241m=\u001b[39m study\u001b[38;5;241m.\u001b[39mbest_trial\n\u001b[0;32m    868\u001b[0m \u001b[38;5;28;01mif\u001b[39;00m output_file \u001b[38;5;129;01mis\u001b[39;00m \u001b[38;5;129;01mnot\u001b[39;00m \u001b[38;5;28;01mNone\u001b[39;00m:\n",
      "File \u001b[1;32mc:\\Users\\sergio_math\\anaconda3\\Lib\\site-packages\\optuna\\study\\study.py:489\u001b[0m, in \u001b[0;36mStudy.optimize\u001b[1;34m(self, func, n_trials, timeout, n_jobs, catch, callbacks, gc_after_trial, show_progress_bar)\u001b[0m\n\u001b[0;32m    387\u001b[0m \u001b[38;5;28;01mdef\u001b[39;00m \u001b[38;5;21moptimize\u001b[39m(\n\u001b[0;32m    388\u001b[0m     \u001b[38;5;28mself\u001b[39m,\n\u001b[0;32m    389\u001b[0m     func: ObjectiveFuncType,\n\u001b[1;32m   (...)\u001b[0m\n\u001b[0;32m    396\u001b[0m     show_progress_bar: \u001b[38;5;28mbool\u001b[39m \u001b[38;5;241m=\u001b[39m \u001b[38;5;28;01mFalse\u001b[39;00m,\n\u001b[0;32m    397\u001b[0m ) \u001b[38;5;241m-\u001b[39m\u001b[38;5;241m>\u001b[39m \u001b[38;5;28;01mNone\u001b[39;00m:\n\u001b[0;32m    398\u001b[0m \u001b[38;5;250m    \u001b[39m\u001b[38;5;124;03m\"\"\"Optimize an objective function.\u001b[39;00m\n\u001b[0;32m    399\u001b[0m \n\u001b[0;32m    400\u001b[0m \u001b[38;5;124;03m    Optimization is done by choosing a suitable set of hyperparameter values from a given\u001b[39;00m\n\u001b[1;32m   (...)\u001b[0m\n\u001b[0;32m    487\u001b[0m \u001b[38;5;124;03m            If nested invocation of this method occurs.\u001b[39;00m\n\u001b[0;32m    488\u001b[0m \u001b[38;5;124;03m    \"\"\"\u001b[39;00m\n\u001b[1;32m--> 489\u001b[0m     _optimize(\n\u001b[0;32m    490\u001b[0m         study\u001b[38;5;241m=\u001b[39m\u001b[38;5;28mself\u001b[39m,\n\u001b[0;32m    491\u001b[0m         func\u001b[38;5;241m=\u001b[39mfunc,\n\u001b[0;32m    492\u001b[0m         n_trials\u001b[38;5;241m=\u001b[39mn_trials,\n\u001b[0;32m    493\u001b[0m         timeout\u001b[38;5;241m=\u001b[39mtimeout,\n\u001b[0;32m    494\u001b[0m         n_jobs\u001b[38;5;241m=\u001b[39mn_jobs,\n\u001b[0;32m    495\u001b[0m         catch\u001b[38;5;241m=\u001b[39m\u001b[38;5;28mtuple\u001b[39m(catch) \u001b[38;5;28;01mif\u001b[39;00m \u001b[38;5;28misinstance\u001b[39m(catch, Iterable) \u001b[38;5;28;01melse\u001b[39;00m (catch,),\n\u001b[0;32m    496\u001b[0m         callbacks\u001b[38;5;241m=\u001b[39mcallbacks,\n\u001b[0;32m    497\u001b[0m         gc_after_trial\u001b[38;5;241m=\u001b[39mgc_after_trial,\n\u001b[0;32m    498\u001b[0m         show_progress_bar\u001b[38;5;241m=\u001b[39mshow_progress_bar,\n\u001b[0;32m    499\u001b[0m     )\n",
      "File \u001b[1;32mc:\\Users\\sergio_math\\anaconda3\\Lib\\site-packages\\optuna\\study\\_optimize.py:64\u001b[0m, in \u001b[0;36m_optimize\u001b[1;34m(study, func, n_trials, timeout, n_jobs, catch, callbacks, gc_after_trial, show_progress_bar)\u001b[0m\n\u001b[0;32m     62\u001b[0m \u001b[38;5;28;01mtry\u001b[39;00m:\n\u001b[0;32m     63\u001b[0m     \u001b[38;5;28;01mif\u001b[39;00m n_jobs \u001b[38;5;241m==\u001b[39m \u001b[38;5;241m1\u001b[39m:\n\u001b[1;32m---> 64\u001b[0m         _optimize_sequential(\n\u001b[0;32m     65\u001b[0m             study,\n\u001b[0;32m     66\u001b[0m             func,\n\u001b[0;32m     67\u001b[0m             n_trials,\n\u001b[0;32m     68\u001b[0m             timeout,\n\u001b[0;32m     69\u001b[0m             catch,\n\u001b[0;32m     70\u001b[0m             callbacks,\n\u001b[0;32m     71\u001b[0m             gc_after_trial,\n\u001b[0;32m     72\u001b[0m             reseed_sampler_rng\u001b[38;5;241m=\u001b[39m\u001b[38;5;28;01mFalse\u001b[39;00m,\n\u001b[0;32m     73\u001b[0m             time_start\u001b[38;5;241m=\u001b[39m\u001b[38;5;28;01mNone\u001b[39;00m,\n\u001b[0;32m     74\u001b[0m             progress_bar\u001b[38;5;241m=\u001b[39mprogress_bar,\n\u001b[0;32m     75\u001b[0m         )\n\u001b[0;32m     76\u001b[0m     \u001b[38;5;28;01melse\u001b[39;00m:\n\u001b[0;32m     77\u001b[0m         \u001b[38;5;28;01mif\u001b[39;00m n_jobs \u001b[38;5;241m==\u001b[39m \u001b[38;5;241m-\u001b[39m\u001b[38;5;241m1\u001b[39m:\n",
      "File \u001b[1;32mc:\\Users\\sergio_math\\anaconda3\\Lib\\site-packages\\optuna\\study\\_optimize.py:161\u001b[0m, in \u001b[0;36m_optimize_sequential\u001b[1;34m(study, func, n_trials, timeout, catch, callbacks, gc_after_trial, reseed_sampler_rng, time_start, progress_bar)\u001b[0m\n\u001b[0;32m    158\u001b[0m         \u001b[38;5;28;01mbreak\u001b[39;00m\n\u001b[0;32m    160\u001b[0m \u001b[38;5;28;01mtry\u001b[39;00m:\n\u001b[1;32m--> 161\u001b[0m     frozen_trial \u001b[38;5;241m=\u001b[39m _run_trial(study, func, catch)\n\u001b[0;32m    162\u001b[0m \u001b[38;5;28;01mfinally\u001b[39;00m:\n\u001b[0;32m    163\u001b[0m     \u001b[38;5;66;03m# The following line mitigates memory problems that can be occurred in some\u001b[39;00m\n\u001b[0;32m    164\u001b[0m     \u001b[38;5;66;03m# environments (e.g., services that use computing containers such as GitHub Actions).\u001b[39;00m\n\u001b[0;32m    165\u001b[0m     \u001b[38;5;66;03m# Please refer to the following PR for further details:\u001b[39;00m\n\u001b[0;32m    166\u001b[0m     \u001b[38;5;66;03m# https://github.com/optuna/optuna/pull/325.\u001b[39;00m\n\u001b[0;32m    167\u001b[0m     \u001b[38;5;28;01mif\u001b[39;00m gc_after_trial:\n",
      "File \u001b[1;32mc:\\Users\\sergio_math\\anaconda3\\Lib\\site-packages\\optuna\\study\\_optimize.py:253\u001b[0m, in \u001b[0;36m_run_trial\u001b[1;34m(study, func, catch)\u001b[0m\n\u001b[0;32m    246\u001b[0m         \u001b[38;5;28;01massert\u001b[39;00m \u001b[38;5;28;01mFalse\u001b[39;00m, \u001b[38;5;124m\"\u001b[39m\u001b[38;5;124mShould not reach.\u001b[39m\u001b[38;5;124m\"\u001b[39m\n\u001b[0;32m    248\u001b[0m \u001b[38;5;28;01mif\u001b[39;00m (\n\u001b[0;32m    249\u001b[0m     frozen_trial\u001b[38;5;241m.\u001b[39mstate \u001b[38;5;241m==\u001b[39m TrialState\u001b[38;5;241m.\u001b[39mFAIL\n\u001b[0;32m    250\u001b[0m     \u001b[38;5;129;01mand\u001b[39;00m func_err \u001b[38;5;129;01mis\u001b[39;00m \u001b[38;5;129;01mnot\u001b[39;00m \u001b[38;5;28;01mNone\u001b[39;00m\n\u001b[0;32m    251\u001b[0m     \u001b[38;5;129;01mand\u001b[39;00m \u001b[38;5;129;01mnot\u001b[39;00m \u001b[38;5;28misinstance\u001b[39m(func_err, catch)\n\u001b[0;32m    252\u001b[0m ):\n\u001b[1;32m--> 253\u001b[0m     \u001b[38;5;28;01mraise\u001b[39;00m func_err\n\u001b[0;32m    254\u001b[0m \u001b[38;5;28;01mreturn\u001b[39;00m frozen_trial\n",
      "File \u001b[1;32mc:\\Users\\sergio_math\\anaconda3\\Lib\\site-packages\\optuna\\study\\_optimize.py:201\u001b[0m, in \u001b[0;36m_run_trial\u001b[1;34m(study, func, catch)\u001b[0m\n\u001b[0;32m    199\u001b[0m \u001b[38;5;28;01mwith\u001b[39;00m get_heartbeat_thread(trial\u001b[38;5;241m.\u001b[39m_trial_id, study\u001b[38;5;241m.\u001b[39m_storage):\n\u001b[0;32m    200\u001b[0m     \u001b[38;5;28;01mtry\u001b[39;00m:\n\u001b[1;32m--> 201\u001b[0m         value_or_values \u001b[38;5;241m=\u001b[39m func(trial)\n\u001b[0;32m    202\u001b[0m     \u001b[38;5;28;01mexcept\u001b[39;00m exceptions\u001b[38;5;241m.\u001b[39mTrialPruned \u001b[38;5;28;01mas\u001b[39;00m e:\n\u001b[0;32m    203\u001b[0m         \u001b[38;5;66;03m# TODO(mamu): Handle multi-objective cases.\u001b[39;00m\n\u001b[0;32m    204\u001b[0m         state \u001b[38;5;241m=\u001b[39m TrialState\u001b[38;5;241m.\u001b[39mPRUNED\n",
      "File \u001b[1;32mc:\\Users\\sergio_math\\anaconda3\\Lib\\site-packages\\skforecast\\model_selection\\_search.py:772\u001b[0m, in \u001b[0;36m_bayesian_search_optuna.<locals>._objective\u001b[1;34m(trial, search_space, forecaster, y, cv, exog, metric, n_jobs, verbose)\u001b[0m\n\u001b[0;32m    769\u001b[0m \u001b[38;5;28;01mif\u001b[39;00m \u001b[38;5;124m\"\u001b[39m\u001b[38;5;124mlags\u001b[39m\u001b[38;5;124m\"\u001b[39m \u001b[38;5;129;01min\u001b[39;00m sample:\n\u001b[0;32m    770\u001b[0m     forecaster\u001b[38;5;241m.\u001b[39mset_lags(sample[\u001b[38;5;124m'\u001b[39m\u001b[38;5;124mlags\u001b[39m\u001b[38;5;124m'\u001b[39m])\n\u001b[1;32m--> 772\u001b[0m metrics, _ \u001b[38;5;241m=\u001b[39m backtesting_forecaster(\n\u001b[0;32m    773\u001b[0m                  forecaster    \u001b[38;5;241m=\u001b[39m forecaster,\n\u001b[0;32m    774\u001b[0m                  y             \u001b[38;5;241m=\u001b[39m y,\n\u001b[0;32m    775\u001b[0m                  cv            \u001b[38;5;241m=\u001b[39m cv,\n\u001b[0;32m    776\u001b[0m                  exog          \u001b[38;5;241m=\u001b[39m exog,\n\u001b[0;32m    777\u001b[0m                  metric        \u001b[38;5;241m=\u001b[39m metric,\n\u001b[0;32m    778\u001b[0m                  n_jobs        \u001b[38;5;241m=\u001b[39m n_jobs,\n\u001b[0;32m    779\u001b[0m                  verbose       \u001b[38;5;241m=\u001b[39m verbose,\n\u001b[0;32m    780\u001b[0m                  show_progress \u001b[38;5;241m=\u001b[39m \u001b[38;5;28;01mFalse\u001b[39;00m\n\u001b[0;32m    781\u001b[0m              )\n\u001b[0;32m    782\u001b[0m metrics \u001b[38;5;241m=\u001b[39m metrics\u001b[38;5;241m.\u001b[39miloc[\u001b[38;5;241m0\u001b[39m, :]\u001b[38;5;241m.\u001b[39mto_list()\n\u001b[0;32m    784\u001b[0m \u001b[38;5;66;03m# Store metrics in the variable `metric_values` defined outside _objective.\u001b[39;00m\n",
      "File \u001b[1;32mc:\\Users\\sergio_math\\anaconda3\\Lib\\site-packages\\skforecast\\model_selection\\_validation.py:567\u001b[0m, in \u001b[0;36mbacktesting_forecaster\u001b[1;34m(forecaster, y, cv, metric, exog, interval, interval_method, n_boot, use_in_sample_residuals, use_binned_residuals, random_state, return_predictors, n_jobs, verbose, show_progress)\u001b[0m\n\u001b[0;32m    560\u001b[0m \u001b[38;5;28;01mif\u001b[39;00m \u001b[38;5;28mtype\u001b[39m(forecaster)\u001b[38;5;241m.\u001b[39m\u001b[38;5;18m__name__\u001b[39m \u001b[38;5;129;01mnot\u001b[39;00m \u001b[38;5;129;01min\u001b[39;00m forecaters_allowed:\n\u001b[0;32m    561\u001b[0m     \u001b[38;5;28;01mraise\u001b[39;00m \u001b[38;5;167;01mTypeError\u001b[39;00m(\n\u001b[0;32m    562\u001b[0m         \u001b[38;5;124mf\u001b[39m\u001b[38;5;124m\"\u001b[39m\u001b[38;5;124m`forecaster` must be of type \u001b[39m\u001b[38;5;132;01m{\u001b[39;00mforecaters_allowed\u001b[38;5;132;01m}\u001b[39;00m\u001b[38;5;124m, for all other types of \u001b[39m\u001b[38;5;124m\"\u001b[39m\n\u001b[0;32m    563\u001b[0m         \u001b[38;5;124mf\u001b[39m\u001b[38;5;124m\"\u001b[39m\u001b[38;5;124m forecasters use the functions available in the other `model_selection` \u001b[39m\u001b[38;5;124m\"\u001b[39m\n\u001b[0;32m    564\u001b[0m         \u001b[38;5;124mf\u001b[39m\u001b[38;5;124m\"\u001b[39m\u001b[38;5;124mmodules.\u001b[39m\u001b[38;5;124m\"\u001b[39m\n\u001b[0;32m    565\u001b[0m     )\n\u001b[1;32m--> 567\u001b[0m check_backtesting_input(\n\u001b[0;32m    568\u001b[0m     forecaster              \u001b[38;5;241m=\u001b[39m forecaster,\n\u001b[0;32m    569\u001b[0m     cv                      \u001b[38;5;241m=\u001b[39m cv,\n\u001b[0;32m    570\u001b[0m     y                       \u001b[38;5;241m=\u001b[39m y,\n\u001b[0;32m    571\u001b[0m     metric                  \u001b[38;5;241m=\u001b[39m metric,\n\u001b[0;32m    572\u001b[0m     interval                \u001b[38;5;241m=\u001b[39m interval,\n\u001b[0;32m    573\u001b[0m     interval_method         \u001b[38;5;241m=\u001b[39m interval_method,\n\u001b[0;32m    574\u001b[0m     n_boot                  \u001b[38;5;241m=\u001b[39m n_boot,\n\u001b[0;32m    575\u001b[0m     use_in_sample_residuals \u001b[38;5;241m=\u001b[39m use_in_sample_residuals,\n\u001b[0;32m    576\u001b[0m     use_binned_residuals    \u001b[38;5;241m=\u001b[39m use_binned_residuals,\n\u001b[0;32m    577\u001b[0m     random_state            \u001b[38;5;241m=\u001b[39m random_state,\n\u001b[0;32m    578\u001b[0m     return_predictors       \u001b[38;5;241m=\u001b[39m return_predictors,\n\u001b[0;32m    579\u001b[0m     n_jobs                  \u001b[38;5;241m=\u001b[39m n_jobs,\n\u001b[0;32m    580\u001b[0m     show_progress           \u001b[38;5;241m=\u001b[39m show_progress\n\u001b[0;32m    581\u001b[0m )\n\u001b[0;32m    583\u001b[0m metric_values, backtest_predictions \u001b[38;5;241m=\u001b[39m _backtesting_forecaster(\n\u001b[0;32m    584\u001b[0m     forecaster              \u001b[38;5;241m=\u001b[39m forecaster,\n\u001b[0;32m    585\u001b[0m     y                       \u001b[38;5;241m=\u001b[39m y,\n\u001b[1;32m   (...)\u001b[0m\n\u001b[0;32m    598\u001b[0m     show_progress           \u001b[38;5;241m=\u001b[39m show_progress\n\u001b[0;32m    599\u001b[0m )\n\u001b[0;32m    601\u001b[0m \u001b[38;5;28;01mreturn\u001b[39;00m metric_values, backtest_predictions\n",
      "File \u001b[1;32mc:\\Users\\sergio_math\\anaconda3\\Lib\\site-packages\\skforecast\\model_selection\\_utils.py:352\u001b[0m, in \u001b[0;36mcheck_backtesting_input\u001b[1;34m(forecaster, cv, metric, add_aggregated_metric, y, series, exog, interval, interval_method, alpha, n_boot, use_in_sample_residuals, use_binned_residuals, random_state, return_predictors, n_jobs, show_progress, suppress_warnings, suppress_warnings_fit)\u001b[0m\n\u001b[0;32m    345\u001b[0m initial_train_size \u001b[38;5;241m=\u001b[39m date_to_index_position(\n\u001b[0;32m    346\u001b[0m                          index        \u001b[38;5;241m=\u001b[39m index, \n\u001b[0;32m    347\u001b[0m                          date_input   \u001b[38;5;241m=\u001b[39m initial_train_size, \n\u001b[0;32m    348\u001b[0m                          method       \u001b[38;5;241m=\u001b[39m \u001b[38;5;124m'\u001b[39m\u001b[38;5;124mvalidation\u001b[39m\u001b[38;5;124m'\u001b[39m,\n\u001b[0;32m    349\u001b[0m                          date_literal \u001b[38;5;241m=\u001b[39m \u001b[38;5;124m'\u001b[39m\u001b[38;5;124minitial_train_size\u001b[39m\u001b[38;5;124m'\u001b[39m\n\u001b[0;32m    350\u001b[0m                      )\n\u001b[0;32m    351\u001b[0m \u001b[38;5;28;01mif\u001b[39;00m initial_train_size \u001b[38;5;241m<\u001b[39m forecaster\u001b[38;5;241m.\u001b[39mwindow_size \u001b[38;5;129;01mor\u001b[39;00m initial_train_size \u001b[38;5;241m>\u001b[39m\u001b[38;5;241m=\u001b[39m data_length:\n\u001b[1;32m--> 352\u001b[0m     \u001b[38;5;28;01mraise\u001b[39;00m \u001b[38;5;167;01mValueError\u001b[39;00m(\n\u001b[0;32m    353\u001b[0m         \u001b[38;5;124mf\u001b[39m\u001b[38;5;124m\"\u001b[39m\u001b[38;5;124mIf `initial_train_size` is an integer, it must be greater than \u001b[39m\u001b[38;5;124m\"\u001b[39m\n\u001b[0;32m    354\u001b[0m         \u001b[38;5;124mf\u001b[39m\u001b[38;5;124m\"\u001b[39m\u001b[38;5;124mthe `window_size` of the forecaster (\u001b[39m\u001b[38;5;132;01m{\u001b[39;00mforecaster\u001b[38;5;241m.\u001b[39mwindow_size\u001b[38;5;132;01m}\u001b[39;00m\u001b[38;5;124m) \u001b[39m\u001b[38;5;124m\"\u001b[39m\n\u001b[0;32m    355\u001b[0m         \u001b[38;5;124mf\u001b[39m\u001b[38;5;124m\"\u001b[39m\u001b[38;5;124mand smaller than the length of `\u001b[39m\u001b[38;5;132;01m{\u001b[39;00mdata_name\u001b[38;5;132;01m}\u001b[39;00m\u001b[38;5;124m` (\u001b[39m\u001b[38;5;132;01m{\u001b[39;00mdata_length\u001b[38;5;132;01m}\u001b[39;00m\u001b[38;5;124m). If \u001b[39m\u001b[38;5;124m\"\u001b[39m\n\u001b[0;32m    356\u001b[0m         \u001b[38;5;124mf\u001b[39m\u001b[38;5;124m\"\u001b[39m\u001b[38;5;124mit is a date, it must be within this range of the index.\u001b[39m\u001b[38;5;124m\"\u001b[39m\n\u001b[0;32m    357\u001b[0m     )\n\u001b[0;32m    358\u001b[0m \u001b[38;5;28;01mif\u001b[39;00m initial_train_size \u001b[38;5;241m+\u001b[39m gap \u001b[38;5;241m>\u001b[39m\u001b[38;5;241m=\u001b[39m data_length:\n\u001b[0;32m    359\u001b[0m     \u001b[38;5;28;01mraise\u001b[39;00m \u001b[38;5;167;01mValueError\u001b[39;00m(\n\u001b[0;32m    360\u001b[0m         \u001b[38;5;124mf\u001b[39m\u001b[38;5;124m\"\u001b[39m\u001b[38;5;124mThe total size of `initial_train_size` \u001b[39m\u001b[38;5;132;01m{\u001b[39;00minitial_train_size\u001b[38;5;132;01m}\u001b[39;00m\u001b[38;5;124m plus \u001b[39m\u001b[38;5;124m\"\u001b[39m\n\u001b[0;32m    361\u001b[0m         \u001b[38;5;124mf\u001b[39m\u001b[38;5;124m\"\u001b[39m\u001b[38;5;124m`gap` \u001b[39m\u001b[38;5;132;01m{\u001b[39;00mgap\u001b[38;5;132;01m}\u001b[39;00m\u001b[38;5;124m cannot be greater than the length of `\u001b[39m\u001b[38;5;132;01m{\u001b[39;00mdata_name\u001b[38;5;132;01m}\u001b[39;00m\u001b[38;5;124m` \u001b[39m\u001b[38;5;124m\"\u001b[39m\n\u001b[0;32m    362\u001b[0m         \u001b[38;5;124mf\u001b[39m\u001b[38;5;124m\"\u001b[39m\u001b[38;5;124m(\u001b[39m\u001b[38;5;132;01m{\u001b[39;00mdata_length\u001b[38;5;132;01m}\u001b[39;00m\u001b[38;5;124m).\u001b[39m\u001b[38;5;124m\"\u001b[39m\n\u001b[0;32m    363\u001b[0m     )\n",
      "\u001b[1;31mValueError\u001b[0m: If `initial_train_size` is an integer, it must be greater than the `window_size` of the forecaster (24) and smaller than the length of `y` (11). If it is a date, it must be within this range of the index."
     ]
    }
   ],
   "source": [
    "# Asegurar que la función reciba un DataFrame con la columna esperada\n",
    "#serie_m_df = serie_m.to_frame(name='Primas')\n",
    "data_train, data_val, data_test = split_data(serie_m, 0.7, 0.2, variable='Primas')\n",
    "forecaster = opt_forecaster(data_train, data_val, data_test, variable='Primas')\n",
    "predictions = forecaster.predict(steps=2)\n",
    "\n",
    "df_predictions = pd.DataFrame({\n",
    "        \"Fecha\": predictions.index,\n",
    "        \"Valor\": predictions.values,\n",
    "})\n",
    "df_predictions.head(50)"
   ]
  }
 ],
 "metadata": {
  "kernelspec": {
   "display_name": "base",
   "language": "python",
   "name": "python3"
  },
  "language_info": {
   "codemirror_mode": {
    "name": "ipython",
    "version": 3
   },
   "file_extension": ".py",
   "mimetype": "text/x-python",
   "name": "python",
   "nbconvert_exporter": "python",
   "pygments_lexer": "ipython3",
   "version": "3.12.4"
  }
 },
 "nbformat": 4,
 "nbformat_minor": 5
}
