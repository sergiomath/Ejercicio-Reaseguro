{
 "cells": [
  {
   "cell_type": "code",
   "execution_count": 2,
   "id": "1bf620ed",
   "metadata": {},
   "outputs": [
    {
     "name": "stdout",
     "output_type": "stream",
     "text": [
      "Se creó el DataFrame: Primas\n",
      "Se creó el DataFrame: Siniestros\n",
      "Se creó el DataFrame: Avisados\n",
      "Se creó el DataFrame: Reaseguro\n"
     ]
    }
   ],
   "source": [
    "# traer la base de datos en data cada hoja en un data frame\n",
    "import pandas as pd\n",
    "\n",
    "# Ruta al archivo Excel\n",
    "excel_path = 'data/QS - Data ejercicios_sin_modificar.xlsx'\n",
    "\n",
    "# Leer todas las hojas en un diccionario de DataFrames\n",
    "data = pd.read_excel(excel_path, sheet_name=None,)\n",
    "\n",
    "# Crear un DataFrame independiente para cada hoja\n",
    "for sheet, df in data.items():\n",
    "    globals()[sheet.replace(' ', '_')] = df\n",
    "    print(f\"Se creó el DataFrame: {sheet.replace(' ', '_')}\")"
   ]
  },
  {
   "cell_type": "code",
   "execution_count": null,
   "id": "3375d2a4",
   "metadata": {},
   "outputs": [],
   "source": []
  },
  {
   "cell_type": "code",
   "execution_count": null,
   "id": "9791434e",
   "metadata": {},
   "outputs": [],
   "source": []
  },
  {
   "cell_type": "code",
   "execution_count": null,
   "id": "7b525542",
   "metadata": {},
   "outputs": [],
   "source": []
  }
 ],
 "metadata": {
  "kernelspec": {
   "display_name": "base",
   "language": "python",
   "name": "python3"
  },
  "language_info": {
   "codemirror_mode": {
    "name": "ipython",
    "version": 3
   },
   "file_extension": ".py",
   "mimetype": "text/x-python",
   "name": "python",
   "nbconvert_exporter": "python",
   "pygments_lexer": "ipython3",
   "version": "3.12.4"
  }
 },
 "nbformat": 4,
 "nbformat_minor": 5
}
