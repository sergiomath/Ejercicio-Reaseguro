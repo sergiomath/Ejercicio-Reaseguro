{
 "cells": [
  {
   "cell_type": "markdown",
   "id": "3375d459",
   "metadata": {},
   "source": [
    "# Taller 1: Limpieza y Análisis de Datos de Reaseguro"
   ]
  },
  {
   "cell_type": "markdown",
   "id": "2383cf1c",
   "metadata": {},
   "source": [
    "## 1. Carga de Datos\n",
    "\n",
    "En esta sección, cargamos los datos desde el archivo Excel. Cada hoja del archivo se carga en un DataFrame de pandas independiente."
   ]
  },
  {
   "cell_type": "code",
   "execution_count": 52,
   "id": "dd345f58",
   "metadata": {},
   "outputs": [
    {
     "name": "stdout",
     "output_type": "stream",
     "text": [
      "Se creó el DataFrame: 'Primas'\n",
      "Se creó el DataFrame: 'Siniestros'\n",
      "Se creó el DataFrame: 'Avisados'\n",
      "Se creó el DataFrame: 'Reaseguro'\n"
     ]
    }
   ],
   "source": [
    "# Importar la librería pandas para el manejo de datos\n",
    "import pandas as pd\n",
    "\n",
    "# Definir la ruta del archivo Excel que contiene los datos\n",
    "excel_path = 'data/QS - Data ejercicios_sin_modificar.xlsx'\n",
    "\n",
    "# Leer todas las hojas del archivo Excel y almacenarlas en un diccionario de DataFrames\n",
    "data = pd.read_excel(excel_path, sheet_name=None)\n",
    "\n",
    "# Iterar sobre el diccionario de DataFrames para crear una variable global por cada hoja\n",
    "# Esto permite acceder a cada DataFrame por el nombre de su hoja (ej. Siniestros, Primas, etc.)\n",
    "for sheet, df in data.items():\n",
    "    # Reemplazar espacios en los nombres de las hojas con guiones bajos para nombres de variables válidos\n",
    "    variable_name = sheet.replace(' ', '_')\n",
    "    globals()[variable_name] = df\n",
    "    print(f\"Se creó el DataFrame: '{variable_name}'\")"
   ]
  },
  {
   "cell_type": "markdown",
   "id": "3b5e1d7c",
   "metadata": {},
   "source": [
    "## 2. Limpieza y Preparación del DataFrame `Siniestros`"
   ]
  },
  {
   "cell_type": "code",
   "execution_count": 53,
   "id": "3dd016cd",
   "metadata": {},
   "outputs": [],
   "source": [
    "# Ordenar el DataFrame 'Siniestros' por la columna 'SINIESTRO' de forma ascendente\n",
    "Siniestros.sort_values(by=\"SINIESTRO\", ascending=True, inplace=True)\n",
    "# Crear una columna 'ID' que sirva como identificador único para cada siniestro\n",
    "# Se basa en el índice del DataFrame, asegurando un número consecutivo para cada registro\n",
    "Siniestros['ID'] = Siniestros.index + 1"
   ]
  },
  {
   "cell_type": "markdown",
   "id": "472dd82a",
   "metadata": {},
   "source": [
    "### 2.1. Ordenamiento y Creación de ID Único\n",
    "\n",
    "Para facilitar el seguimiento de los registros, primero ordenamos el DataFrame por el número de siniestro y luego creamos una columna `ID` con un identificador único para cada fila."
   ]
  },
  {
   "cell_type": "code",
   "execution_count": 54,
   "id": "be319a90",
   "metadata": {},
   "outputs": [
    {
     "name": "stderr",
     "output_type": "stream",
     "text": [
      "C:\\Users\\sergio_math\\AppData\\Local\\Temp\\ipykernel_23664\\464805755.py:3: UserWarning: Parsing dates in %d/%m/%Y format when dayfirst=False (the default) was specified. Pass `dayfirst=True` or specify a format to silence this warning.\n",
      "  Siniestros['Fecha de Ocurrencia'] = pd.to_datetime(Siniestros['FECHA SINIESTRO'])\n"
     ]
    }
   ],
   "source": [
    "# Convertir la columna 'FECHA SINIESTRO' al formato datetime\n",
    "# Se crea una nueva columna 'Fecha de Ocurrencia' para almacenar los valores convertidos\n",
    "Siniestros['Fecha de Ocurrencia'] = pd.to_datetime(Siniestros['FECHA SINIESTRO'])"
   ]
  },
  {
   "cell_type": "markdown",
   "id": "02d28e85",
   "metadata": {},
   "source": [
    "### 2.2. Limpieza y Conversión de Fechas\n",
    "\n",
    "Las columnas de fechas son cruciales para el análisis. En esta sección, convertimos las columnas de fecha a un formato estándar (`datetime`) y manejamos los errores que puedan surgir durante la conversión."
   ]
  },
  {
   "cell_type": "code",
   "execution_count": 55,
   "id": "476a61c8",
   "metadata": {},
   "outputs": [
    {
     "name": "stdout",
     "output_type": "stream",
     "text": [
      "Número de errores de espacio restantes: 8\n"
     ]
    },
    {
     "name": "stderr",
     "output_type": "stream",
     "text": [
      "C:\\Users\\sergio_math\\AppData\\Local\\Temp\\ipykernel_23664\\2642177191.py:2: UserWarning: Parsing dates in %d/%m/%Y format when dayfirst=False (the default) was specified. Pass `dayfirst=True` or specify a format to silence this warning.\n",
      "  Siniestros['Fecha de Pago'] = pd.to_datetime(Siniestros['FECHA AVISO'], errors='coerce')\n"
     ]
    }
   ],
   "source": [
    "# Convertir la columna 'FECHA AVISO' a datetime. 'coerce' convierte los errores en NaT (Not a Time)\n",
    "Siniestros['Fecha de Pago'] = pd.to_datetime(Siniestros['FECHA AVISO'], errors='coerce')\n",
    "\n",
    "# --- Corrección de errores específicos: Espacios en blanco ---\n",
    "# Identificar las filas donde 'FECHA AVISO' es un espacio en blanco\n",
    "errores_espacio = Siniestros[Siniestros['FECHA AVISO'] == \" \"]\n",
    "id_errores_espacio = errores_espacio['ID'].tolist()\n",
    "\n",
    "# Para estos casos, se asume que la fecha de aviso es la misma que la fecha de ocurrencia\n",
    "Siniestros.loc[Siniestros['ID'].isin(id_errores_espacio), 'Fecha de Pago'] = Siniestros.loc[Siniestros['ID'].isin(id_errores_espacio), 'Fecha de Ocurrencia']\n",
    "\n",
    "# Verificar que ya no queden errores de espacios en blanco\n",
    "errores_espacio2 = Siniestros[Siniestros['FECHA AVISO'] == \" \"]\n",
    "print(f\"Número de errores de espacio restantes: {len(errores_espacio2)}\")"
   ]
  },
  {
   "cell_type": "code",
   "execution_count": 56,
   "id": "4945c4b4",
   "metadata": {},
   "outputs": [
    {
     "name": "stdout",
     "output_type": "stream",
     "text": [
      "Se encontraron 1096 registros con formato de fecha numérico.\n"
     ]
    }
   ],
   "source": [
    "# --- Corrección de errores específicos: Formatos numéricos (ej. 201901) ---\n",
    "# Identificar las filas donde la conversión a fecha falló (resultando en NaT)\n",
    "errores_fecha_aviso = Siniestros[Siniestros['Fecha de Pago'].isnull() & Siniestros['FECHA AVISO'].notnull()]\n",
    "print(f\"Se encontraron {len(errores_fecha_aviso)} registros con formato de fecha numérico.\")"
   ]
  },
  {
   "cell_type": "code",
   "execution_count": 57,
   "id": "9791434e",
   "metadata": {},
   "outputs": [
    {
     "name": "stdout",
     "output_type": "stream",
     "text": [
      "El DataFrame 'Siniestros' ha sido actualizado con las fechas corregidas.\n"
     ]
    },
    {
     "name": "stderr",
     "output_type": "stream",
     "text": [
      "C:\\Users\\sergio_math\\AppData\\Local\\Temp\\ipykernel_23664\\827445970.py:2: SettingWithCopyWarning: \n",
      "A value is trying to be set on a copy of a slice from a DataFrame.\n",
      "Try using .loc[row_indexer,col_indexer] = value instead\n",
      "\n",
      "See the caveats in the documentation: https://pandas.pydata.org/pandas-docs/stable/user_guide/indexing.html#returning-a-view-versus-a-copy\n",
      "  errores_fecha_aviso['FECHA AVISO'] = errores_fecha_aviso['FECHA AVISO'].astype(str)\n",
      "C:\\Users\\sergio_math\\AppData\\Local\\Temp\\ipykernel_23664\\827445970.py:5: SettingWithCopyWarning: \n",
      "A value is trying to be set on a copy of a slice from a DataFrame.\n",
      "Try using .loc[row_indexer,col_indexer] = value instead\n",
      "\n",
      "See the caveats in the documentation: https://pandas.pydata.org/pandas-docs/stable/user_guide/indexing.html#returning-a-view-versus-a-copy\n",
      "  errores_fecha_aviso['año_aviso'] = errores_fecha_aviso['FECHA AVISO'].str[:4]\n",
      "C:\\Users\\sergio_math\\AppData\\Local\\Temp\\ipykernel_23664\\827445970.py:6: SettingWithCopyWarning: \n",
      "A value is trying to be set on a copy of a slice from a DataFrame.\n",
      "Try using .loc[row_indexer,col_indexer] = value instead\n",
      "\n",
      "See the caveats in the documentation: https://pandas.pydata.org/pandas-docs/stable/user_guide/indexing.html#returning-a-view-versus-a-copy\n",
      "  errores_fecha_aviso['mes_aviso'] = errores_fecha_aviso['FECHA AVISO'].str[4:]\n",
      "C:\\Users\\sergio_math\\AppData\\Local\\Temp\\ipykernel_23664\\827445970.py:9: SettingWithCopyWarning: \n",
      "A value is trying to be set on a copy of a slice from a DataFrame.\n",
      "Try using .loc[row_indexer,col_indexer] = value instead\n",
      "\n",
      "See the caveats in the documentation: https://pandas.pydata.org/pandas-docs/stable/user_guide/indexing.html#returning-a-view-versus-a-copy\n",
      "  errores_fecha_aviso['Fecha de Pago'] = errores_fecha_aviso['año_aviso'] + \"/\" + errores_fecha_aviso['mes_aviso'] + \"/01\"\n",
      "C:\\Users\\sergio_math\\AppData\\Local\\Temp\\ipykernel_23664\\827445970.py:12: SettingWithCopyWarning: \n",
      "A value is trying to be set on a copy of a slice from a DataFrame.\n",
      "Try using .loc[row_indexer,col_indexer] = value instead\n",
      "\n",
      "See the caveats in the documentation: https://pandas.pydata.org/pandas-docs/stable/user_guide/indexing.html#returning-a-view-versus-a-copy\n",
      "  errores_fecha_aviso['Fecha de Pago'] = pd.to_datetime(errores_fecha_aviso['Fecha de Pago'], format='%Y/%m/%d', errors='coerce')\n"
     ]
    }
   ],
   "source": [
    "# Convertir la columna 'FECHA AVISO' de los errores a string para poder manipularla\n",
    "errores_fecha_aviso['FECHA AVISO'] = errores_fecha_aviso['FECHA AVISO'].astype(str)\n",
    "\n",
    "# Extraer el año (primeros 4 dígitos) y el mes (dígitos restantes)\n",
    "errores_fecha_aviso['año_aviso'] = errores_fecha_aviso['FECHA AVISO'].str[:4]\n",
    "errores_fecha_aviso['mes_aviso'] = errores_fecha_aviso['FECHA AVISO'].str[4:]\n",
    "\n",
    "# Reconstruir la fecha en formato 'YYYY/MM/DD', asumiendo el día 01\n",
    "errores_fecha_aviso['Fecha de Pago'] = errores_fecha_aviso['año_aviso'] + \"/\" + errores_fecha_aviso['mes_aviso'] + \"/01\"\n",
    "\n",
    "# Convertir la fecha reconstruida al formato datetime\n",
    "errores_fecha_aviso['Fecha de Pago'] = pd.to_datetime(errores_fecha_aviso['Fecha de Pago'], format='%Y/%m/%d', errors='coerce')\n",
    "\n",
    "# --- Actualización del DataFrame Principal ---\n",
    "# Crear un mapa de ID a 'Fecha de Pago' corregida desde el DataFrame de errores\n",
    "id_a_fecha_mapa = errores_fecha_aviso.set_index('ID')['Fecha de Pago']\n",
    "\n",
    "# Actualizar el DataFrame 'Siniestros' usando el mapa.\n",
    "# .map() aplica la corrección y .fillna() mantiene los valores originales que no necesitaban corrección.\n",
    "Siniestros['Fecha de Pago'] = Siniestros['ID'].map(id_a_fecha_mapa).fillna(Siniestros['Fecha de Pago'])\n",
    "print(\"El DataFrame 'Siniestros' ha sido actualizado con las fechas corregidas.\")"
   ]
  },
  {
   "cell_type": "code",
   "execution_count": 58,
   "id": "4df11d8d",
   "metadata": {},
   "outputs": [
    {
     "name": "stdout",
     "output_type": "stream",
     "text": [
      "Se ha calculado la diferencia de días entre la fecha de aviso y ocurrencia.\n"
     ]
    }
   ],
   "source": [
    "# Calcular la diferencia en días entre la fecha de aviso y la fecha de ocurrencia\n",
    "# El resultado se almacena en una nueva columna llamada 'dias_entre_fechas'\n",
    "Siniestros['dias_entre_fechas'] = (Siniestros['Fecha de Pago'] - Siniestros['Fecha de Ocurrencia']).dt.days\n",
    "print(\"Se ha calculado la diferencia de días entre la fecha de aviso y ocurrencia.\")"
   ]
  },
  {
   "cell_type": "markdown",
   "id": "51d65496",
   "metadata": {},
   "source": [
    "### 2.3. Análisis de Consistencia de Fechas\n",
    "\n",
    "Una vez limpias las fechas, es importante verificar su consistencia. Un indicador clave es la diferencia de días entre la fecha de ocurrencia del siniestro y la fecha de aviso. Lógicamente, la fecha de aviso no debería ser anterior a la de ocurrencia."
   ]
  },
  {
   "cell_type": "code",
   "execution_count": 59,
   "id": "7b525542",
   "metadata": {},
   "outputs": [
    {
     "name": "stdout",
     "output_type": "stream",
     "text": [
      "Número de registros con fecha de aviso anterior a la de ocurrencia: 532\n",
      "Porcentaje de datos inconsistentes: 1.13%\n",
      "Se han eliminado 532 registros inconsistentes.\n"
     ]
    }
   ],
   "source": [
    "# Contar el número de registros donde la diferencia de días es negativa (inconsistencia)\n",
    "num_datos_negativos = Siniestros[Siniestros['dias_entre_fechas'] < 0].shape[0]\n",
    "print(f\"Número de registros con fecha de aviso anterior a la de ocurrencia: {num_datos_negativos}\")\n",
    "\n",
    "# Calcular el porcentaje de datos inconsistentes sobre el total\n",
    "num_datos_totales = Siniestros.shape[0]\n",
    "porcentaje_negativos = (num_datos_negativos / num_datos_totales) * 100\n",
    "print(f\"Porcentaje de datos inconsistentes: {porcentaje_negativos:.2f}%\")\n",
    "\n",
    "# Si el porcentaje de inconsistencias es bajo (menor al 3%), se procede a eliminarlos\n",
    "if porcentaje_negativos < 3:\n",
    "    Siniestros = Siniestros[Siniestros['dias_entre_fechas'] >= 0]\n",
    "    print(f\"Se han eliminado {num_datos_negativos} registros inconsistentes.\")\n",
    "else:\n",
    "    print(\"El porcentaje de datos inconsistentes es alto. Se recomienda una revisión manual.\")"
   ]
  },
  {
   "cell_type": "markdown",
   "id": "620e3ebc",
   "metadata": {},
   "source": [
    "## 3. Limpieza y Preparación del DataFrame `Avisados`"
   ]
  },
  {
   "cell_type": "code",
   "execution_count": 60,
   "id": "bfbc9b0e",
   "metadata": {},
   "outputs": [
    {
     "name": "stdout",
     "output_type": "stream",
     "text": [
      "La columna 'FECHA SINIESTRO' de Avisados se convirtió correctamente.\n"
     ]
    }
   ],
   "source": [
    "# Convertir 'FECHA SINIESTRO' a datetime, creando la columna 'Fecha de Ocurrencia'\n",
    "Avisados['Fecha de Ocurrencia'] = pd.to_datetime(Avisados['FECHA SINIESTRO'], errors='coerce')\n",
    "\n",
    "# Verificar si ocurrieron errores durante la conversión\n",
    "if Avisados['Fecha de Ocurrencia'].isnull().any():\n",
    "    print(\"Se encontraron errores en la conversión de 'FECHA SINIESTRO' en el DataFrame Avisados.\")\n",
    "else:\n",
    "    print(\"La columna 'FECHA SINIESTRO' de Avisados se convirtió correctamente.\")"
   ]
  },
  {
   "cell_type": "markdown",
   "id": "a61f49ba",
   "metadata": {},
   "source": [
    "### 3.1. Limpieza y Conversión de Fechas\n",
    "\n",
    "Al igual que con `Siniestros`, el primer paso es convertir las columnas de fecha a un formato estándar y manejar cualquier error."
   ]
  },
  {
   "cell_type": "code",
   "execution_count": 61,
   "id": "c4f59a4a",
   "metadata": {},
   "outputs": [
    {
     "name": "stdout",
     "output_type": "stream",
     "text": [
      "Se encontraron errores en la conversión de 'FECHA AVISO' en el DataFrame Avisados.\n"
     ]
    }
   ],
   "source": [
    "# Convertir 'FECHA AVISO' a datetime, creando la columna 'Fecha de Aviso'\n",
    "Avisados[\"Fecha de Aviso\"]= pd.to_datetime(Avisados[\"FECHA AVISO\"], errors='coerce')\n",
    "\n",
    "# Verificar si ocurrieron errores durante la conversión\n",
    "if Avisados[\"Fecha de Aviso\"].isnull().any():\n",
    "    print(\"Se encontraron errores en la conversión de 'FECHA AVISO' en el DataFrame Avisados.\")\n",
    "else:\n",
    "    print(\"La columna 'FECHA AVISO' de Avisados se convirtió correctamente.\")"
   ]
  },
  {
   "cell_type": "code",
   "execution_count": 62,
   "id": "d39bb17b",
   "metadata": {},
   "outputs": [
    {
     "name": "stdout",
     "output_type": "stream",
     "text": [
      "Se encontraron 6 filas con errores en 'Fecha de Aviso' en el DataFrame Avisados.\n"
     ]
    }
   ],
   "source": [
    "# Identificar y almacenar las filas donde la conversión de 'Fecha de Aviso' falló\n",
    "errores_fecha_aviso_avisados = Avisados[Avisados['Fecha de Aviso'].isnull()]\n",
    "print(f\"Se encontraron {len(errores_fecha_aviso_avisados)} filas con errores en 'Fecha de Aviso' en el DataFrame Avisados.\")"
   ]
  },
  {
   "cell_type": "code",
   "execution_count": 63,
   "id": "d526cc3c",
   "metadata": {},
   "outputs": [
    {
     "name": "stdout",
     "output_type": "stream",
     "text": [
      "Se eliminaron las filas con errores. El DataFrame Avisados ahora tiene 835 filas.\n"
     ]
    }
   ],
   "source": [
    "# Eliminar las filas que contienen errores en la 'Fecha de Aviso'\n",
    "Avisados = Avisados.dropna(subset=['Fecha de Aviso'])\n",
    "print(f\"Se eliminaron las filas con errores. El DataFrame Avisados ahora tiene {len(Avisados)} filas.\")"
   ]
  },
  {
   "cell_type": "code",
   "execution_count": 64,
   "id": "db517734",
   "metadata": {},
   "outputs": [
    {
     "name": "stdout",
     "output_type": "stream",
     "text": [
      "Se ha calculado la diferencia de días para el DataFrame Avisados.\n"
     ]
    },
    {
     "name": "stderr",
     "output_type": "stream",
     "text": [
      "C:\\Users\\sergio_math\\AppData\\Local\\Temp\\ipykernel_23664\\2125196292.py:2: SettingWithCopyWarning: \n",
      "A value is trying to be set on a copy of a slice from a DataFrame.\n",
      "Try using .loc[row_indexer,col_indexer] = value instead\n",
      "\n",
      "See the caveats in the documentation: https://pandas.pydata.org/pandas-docs/stable/user_guide/indexing.html#returning-a-view-versus-a-copy\n",
      "  Avisados['Dias Entre'] = (Avisados['Fecha de Aviso'] - Avisados['Fecha de Ocurrencia']).dt.days\n"
     ]
    }
   ],
   "source": [
    "# Calcular la diferencia en días entre 'Fecha de Aviso' y 'Fecha de Ocurrencia'\n",
    "Avisados['Dias Entre'] = (Avisados['Fecha de Aviso'] - Avisados['Fecha de Ocurrencia']).dt.days\n",
    "print(\"Se ha calculado la diferencia de días para el DataFrame Avisados.\")"
   ]
  },
  {
   "cell_type": "markdown",
   "id": "d0d9ae0b",
   "metadata": {},
   "source": [
    "### 3.2. Análisis de Consistencia de Fechas\n",
    "\n",
    "Similar al DataFrame `Siniestros`, verificamos la consistencia entre la fecha de ocurrencia y la fecha de aviso."
   ]
  },
  {
   "cell_type": "code",
   "execution_count": 65,
   "id": "84bbb565",
   "metadata": {},
   "outputs": [],
   "source": [
    "#si el numero de dias entre la fecha de aviso y la fecha de ocurrencia es negativo, entonces hacer la fecha de ocurrencia igual a la de aviso\n",
    "Avisados.loc[Avisados['Dias Entre'] < 0, 'Fecha de Ocurrencia'] = Avisados['Fecha de Aviso']"
   ]
  },
  {
   "cell_type": "code",
   "execution_count": 66,
   "id": "071337dc",
   "metadata": {},
   "outputs": [
    {
     "name": "stderr",
     "output_type": "stream",
     "text": [
      "C:\\Users\\sergio_math\\AppData\\Local\\Temp\\ipykernel_23664\\2995833068.py:2: SettingWithCopyWarning: \n",
      "A value is trying to be set on a copy of a slice from a DataFrame.\n",
      "Try using .loc[row_indexer,col_indexer] = value instead\n",
      "\n",
      "See the caveats in the documentation: https://pandas.pydata.org/pandas-docs/stable/user_guide/indexing.html#returning-a-view-versus-a-copy\n",
      "  Avisados['Dias Entre'] = (Avisados['Fecha de Aviso'] - Avisados['Fecha de Ocurrencia']).dt.days\n"
     ]
    }
   ],
   "source": [
    "#hacemos los dias entre fecha de aviso y fecha de ocurrencia recalculo\n",
    "Avisados['Dias Entre'] = (Avisados['Fecha de Aviso'] - Avisados['Fecha de Ocurrencia']).dt.days"
   ]
  },
  {
   "cell_type": "markdown",
   "id": "340669e8",
   "metadata": {},
   "source": [
    "# Arreglar los periodos de desarrollo\n"
   ]
  },
  {
   "cell_type": "code",
   "execution_count": 67,
   "id": "ce37e9ab",
   "metadata": {},
   "outputs": [
    {
     "name": "stderr",
     "output_type": "stream",
     "text": [
      "C:\\Users\\sergio_math\\AppData\\Local\\Temp\\ipykernel_23664\\3322055405.py:3: SettingWithCopyWarning: \n",
      "A value is trying to be set on a copy of a slice from a DataFrame.\n",
      "Try using .loc[row_indexer,col_indexer] = value instead\n",
      "\n",
      "See the caveats in the documentation: https://pandas.pydata.org/pandas-docs/stable/user_guide/indexing.html#returning-a-view-versus-a-copy\n",
      "  Siniestros['Vigencia de Ocurrencia'] = Siniestros['Fecha de Ocurrencia'].apply(lambda x: x.year - 1 if x < pd.Timestamp(year=x.year, month=7, day=1) else x.year)\n",
      "C:\\Users\\sergio_math\\AppData\\Local\\Temp\\ipykernel_23664\\3322055405.py:4: SettingWithCopyWarning: \n",
      "A value is trying to be set on a copy of a slice from a DataFrame.\n",
      "Try using .loc[row_indexer,col_indexer] = value instead\n",
      "\n",
      "See the caveats in the documentation: https://pandas.pydata.org/pandas-docs/stable/user_guide/indexing.html#returning-a-view-versus-a-copy\n",
      "  Siniestros['Vigencia de Pago'] = Siniestros[\"Fecha de Pago\"].apply(lambda x: x.year - 1 if x < pd.Timestamp(year=x.year, month=7, day=1) else x.year)\n",
      "C:\\Users\\sergio_math\\AppData\\Local\\Temp\\ipykernel_23664\\3322055405.py:4: SettingWithCopyWarning: \n",
      "A value is trying to be set on a copy of a slice from a DataFrame.\n",
      "Try using .loc[row_indexer,col_indexer] = value instead\n",
      "\n",
      "See the caveats in the documentation: https://pandas.pydata.org/pandas-docs/stable/user_guide/indexing.html#returning-a-view-versus-a-copy\n",
      "  Siniestros['Vigencia de Pago'] = Siniestros[\"Fecha de Pago\"].apply(lambda x: x.year - 1 if x < pd.Timestamp(year=x.year, month=7, day=1) else x.year)\n"
     ]
    }
   ],
   "source": [
    "#para la base de siniestros crear una columna que coloque el año anterior de la fecha de ocurrencia si la fecha de ocurrencia es anterior al 1 de julio de ese año de lo contrario colocar el mismo año\n",
    "\n",
    "Siniestros['Vigencia de Ocurrencia'] = Siniestros['Fecha de Ocurrencia'].apply(lambda x: x.year - 1 if x < pd.Timestamp(year=x.year, month=7, day=1) else x.year)\n",
    "Siniestros['Vigencia de Pago'] = Siniestros[\"Fecha de Pago\"].apply(lambda x: x.year - 1 if x < pd.Timestamp(year=x.year, month=7, day=1) else x.year)"
   ]
  },
  {
   "cell_type": "markdown",
   "id": "36a7b780",
   "metadata": {},
   "source": [
    "La columna `VIGENCIA` se calcula de la siguiente manera:\n",
    "- Si la `Fecha de Ocurrencia` es anterior al 1 de julio del año en curso, la `VIGENCIA` será el año anterior.\n",
    "- De lo contrario, la `VIGENCIA` será el mismo año de la `Fecha de Ocurrencia`."
   ]
  },
  {
   "cell_type": "code",
   "execution_count": 68,
   "id": "be077873",
   "metadata": {},
   "outputs": [
    {
     "name": "stderr",
     "output_type": "stream",
     "text": [
      "C:\\Users\\sergio_math\\AppData\\Local\\Temp\\ipykernel_23664\\708453331.py:1: SettingWithCopyWarning: \n",
      "A value is trying to be set on a copy of a slice from a DataFrame.\n",
      "Try using .loc[row_indexer,col_indexer] = value instead\n",
      "\n",
      "See the caveats in the documentation: https://pandas.pydata.org/pandas-docs/stable/user_guide/indexing.html#returning-a-view-versus-a-copy\n",
      "  Avisados['Vigencia de Ocurrencia'] = Avisados['Fecha de Ocurrencia'].apply(lambda x: x.year - 1 if x < pd.Timestamp(year=x.year, month=7, day=1) else x.year)\n",
      "C:\\Users\\sergio_math\\AppData\\Local\\Temp\\ipykernel_23664\\708453331.py:2: SettingWithCopyWarning: \n",
      "A value is trying to be set on a copy of a slice from a DataFrame.\n",
      "Try using .loc[row_indexer,col_indexer] = value instead\n",
      "\n",
      "See the caveats in the documentation: https://pandas.pydata.org/pandas-docs/stable/user_guide/indexing.html#returning-a-view-versus-a-copy\n",
      "  Avisados['Vigencia de Aviso'] = Avisados[\"Fecha de Aviso\"].apply(lambda x: x.year - 1 if x < pd.Timestamp(year=x.year, month=7, day=1) else x.year)\n"
     ]
    }
   ],
   "source": [
    "Avisados['Vigencia de Ocurrencia'] = Avisados['Fecha de Ocurrencia'].apply(lambda x: x.year - 1 if x < pd.Timestamp(year=x.year, month=7, day=1) else x.year)\n",
    "Avisados['Vigencia de Aviso'] = Avisados[\"Fecha de Aviso\"].apply(lambda x: x.year - 1 if x < pd.Timestamp(year=x.year, month=7, day=1) else x.year)"
   ]
  },
  {
   "cell_type": "code",
   "execution_count": 69,
   "id": "c35d422c",
   "metadata": {},
   "outputs": [],
   "source": [
    "#exportar para excel los dataframes en cada hoja del excel\n",
    "\n",
    "# Crear un objeto ExcelWriter\n",
    "with pd.ExcelWriter('QS_limpio.xlsx') as writer:\n",
    "    Avisados.to_excel(writer, sheet_name='Avisados',index=False)\n",
    "    Siniestros.to_excel(writer, sheet_name='Siniestros',index=False)\n",
    "    Primas.to_excel(writer, sheet_name='Primas',index=False)\n",
    "    Reaseguro.to_excel(writer, sheet_name='Reaseguro',index=False)\n"
   ]
  }
 ],
 "metadata": {
  "kernelspec": {
   "display_name": "base",
   "language": "python",
   "name": "python3"
  },
  "language_info": {
   "codemirror_mode": {
    "name": "ipython",
    "version": 3
   },
   "file_extension": ".py",
   "mimetype": "text/x-python",
   "name": "python",
   "nbconvert_exporter": "python",
   "pygments_lexer": "ipython3",
   "version": "3.12.4"
  }
 },
 "nbformat": 4,
 "nbformat_minor": 5
}
